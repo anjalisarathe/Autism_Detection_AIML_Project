{
 "cells": [
  {
   "cell_type": "code",
   "execution_count": 17,
   "metadata": {},
   "outputs": [],
   "source": [
    "import pandas as pd\n",
    "import pickle\n",
    "from sklearn.model_selection import train_test_split, GridSearchCV\n",
    "from sklearn.ensemble import RandomForestClassifier\n",
    "from sklearn.metrics import classification_report, confusion_matrix, accuracy_score\n",
    "from sklearn.pipeline import Pipeline\n",
    "from sklearn.preprocessing import StandardScaler"
   ]
  },
  {
   "cell_type": "code",
   "execution_count": 18,
   "metadata": {},
   "outputs": [
    {
     "name": "stdout",
     "output_type": "stream",
     "text": [
      "Data preview:\n",
      "   A1  A2  A3  A4  A5  A6  A7  A8  A9  A10  Age Sex Jauundice Family_ASD Class\n",
      "0   1   1   0   1   0   0   1   1   0    0   15   m        no         no    NO\n",
      "1   0   1   1   1   0   1   1   0   1    0   15   m        no         no    NO\n",
      "2   1   1   1   0   1   1   1   1   1    1   15   f        no        yes   YES\n",
      "3   1   1   1   1   1   1   1   1   0    0   16   f        no         no   YES\n",
      "4   1   1   1   1   1   1   1   1   1    1   15   f        no         no   YES\n"
     ]
    }
   ],
   "source": [
    "# 1. Load the Data\n",
    "df = pd.read_csv('Autism_Screening_Data_Combined.csv')\n",
    "print(\"Data preview:\")\n",
    "print(df.head())"
   ]
  },
  {
   "cell_type": "code",
   "execution_count": 19,
   "metadata": {},
   "outputs": [],
   "source": [
    "# 2. Preprocess the Data\n",
    "# Map the target column 'Class' from 'NO'/'YES' to 0/1\n",
    "df['Class'] = df['Class'].map({'NO': 0, 'YES': 1})"
   ]
  },
  {
   "cell_type": "code",
   "execution_count": 20,
   "metadata": {},
   "outputs": [],
   "source": [
    "# Encode categorical columns:\n",
    "# For Sex, we can map 'm' to 0 and 'f' to 1 (or vice versa)\n",
    "df['Sex'] = df['Sex'].map({'m': 0, 'f': 1})"
   ]
  },
  {
   "cell_type": "code",
   "execution_count": 21,
   "metadata": {},
   "outputs": [],
   "source": [
    "# For Jauundice and Family_ASD, map 'no' to 0 and 'yes' to 1.\n",
    "# (Note: Even if one of these columns appears constant in a subset, keep them for consistency.)\n",
    "df['Jauundice'] = df['Jauundice'].map({'no': 0, 'yes': 1})\n",
    "df['Family_ASD'] = df['Family_ASD'].map({'no': 0, 'yes': 1})\n"
   ]
  },
  {
   "cell_type": "code",
   "execution_count": 22,
   "metadata": {},
   "outputs": [],
   "source": [
    "# Define features and target\n",
    "X = df.drop('Class', axis=1)\n",
    "y = df['Class']"
   ]
  },
  {
   "cell_type": "code",
   "execution_count": 23,
   "metadata": {},
   "outputs": [],
   "source": [
    "# 3. Split the Data into Training and Test Sets\n",
    "X_train, X_test, y_train, y_test = train_test_split(X, y, test_size=0.2, random_state=42)\n",
    "\n",
    "# 4. Create a Pipeline for Scaling and Model Building\n",
    "# Using StandardScaler for feature scaling (important for some algorithms) and RandomForestClassifier\n",
    "pipeline = Pipeline([\n",
    "    ('scaler', StandardScaler()),\n",
    "    ('classifier', RandomForestClassifier(random_state=42))\n",
    "])"
   ]
  },
  {
   "cell_type": "code",
   "execution_count": 24,
   "metadata": {},
   "outputs": [],
   "source": [
    "# 5. Hyperparameter Tuning\n",
    "param_grid = {\n",
    "    'classifier__n_estimators': [50, 100, 200],\n",
    "    'classifier__max_depth': [None, 5, 10]\n",
    "}"
   ]
  },
  {
   "cell_type": "code",
   "execution_count": null,
   "metadata": {},
   "outputs": [
    {
     "name": "stdout",
     "output_type": "stream",
     "text": [
      "Best parameters: {'classifier__max_depth': None, 'classifier__n_estimators': 200}\n"
     ]
    }
   ],
   "source": [
    "grid_search = GridSearchCV(pipeline, param_grid, cv=5, scoring='accuracy')\n",
    "grid_search.fit(X_train, y_train)\n",
    "\n",
    "# Get the best model\n",
    "best_model = grid_search.best_estimator_\n",
    "print(\"Best parameters:\", grid_search.best_params_)"
   ]
  },
  {
   "cell_type": "code",
   "execution_count": 26,
   "metadata": {},
   "outputs": [
    {
     "name": "stdout",
     "output_type": "stream",
     "text": [
      "Model saved successfully as autism_model.pkl\n"
     ]
    }
   ],
   "source": [
    "# 6. Save the Model using Pickle\n",
    "with open('autism_model.pkl', 'wb') as f:\n",
    "    pickle.dump(best_model, f)\n",
    "    \n",
    "print(\"Model saved successfully as autism_model.pkl\")"
   ]
  },
  {
   "cell_type": "code",
   "execution_count": null,
   "metadata": {},
   "outputs": [
    {
     "name": "stdout",
     "output_type": "stream",
     "text": [
      "\n",
      "Test Accuracy: 0.988477366255144\n",
      "\n",
      "Classification Report:\n",
      "              precision    recall  f1-score   support\n",
      "\n",
      "           0       0.99      0.99      0.99       848\n",
      "           1       0.99      0.98      0.98       367\n",
      "\n",
      "    accuracy                           0.99      1215\n",
      "   macro avg       0.99      0.98      0.99      1215\n",
      "weighted avg       0.99      0.99      0.99      1215\n",
      "\n",
      "\n",
      "Confusion Matrix:\n",
      "[[843   5]\n",
      " [  9 358]]\n"
     ]
    }
   ],
   "source": [
    "# 7. Evaluate on Test Data\n",
    "y_pred = best_model.predict(X_test)\n",
    "accuracy = accuracy_score(y_test, y_pred)\n",
    "print(\"\\nTest Accuracy:\", accuracy)\n",
    "print(\"\\nClassification Report:\")\n",
    "print(classification_report(y_test, y_pred))\n",
    "print(\"\\nConfusion Matrix:\")\n",
    "print(confusion_matrix(y_test, y_pred))"
   ]
  }
 ],
 "metadata": {
  "kernelspec": {
   "display_name": "Python 3",
   "language": "python",
   "name": "python3"
  },
  "language_info": {
   "codemirror_mode": {
    "name": "ipython",
    "version": 3
   },
   "file_extension": ".py",
   "mimetype": "text/x-python",
   "name": "python",
   "nbconvert_exporter": "python",
   "pygments_lexer": "ipython3",
   "version": "3.8.10"
  }
 },
 "nbformat": 4,
 "nbformat_minor": 2
}
